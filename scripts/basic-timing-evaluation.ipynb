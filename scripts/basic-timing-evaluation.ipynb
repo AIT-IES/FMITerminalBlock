{
 "cells": [
  {
   "cell_type": "markdown",
   "metadata": {},
   "source": [
    "# Basic Timing Evaluation\n",
    "The following notebook demonstrates a workflow which evaluates the timing of a single single simulation run. The notebook directly accesses several Python classes and definitions which were provided by [FMITerminalBlock](https://github.com/AIT-IES/FMITerminalBlock) to process timing files. The main FMITerminalBlock executable may be configured to output these timing files in order to assess the real time performance of a simulation run.\n",
    "The project specific python code is located in the ```timing``` package. The ```timing.data_set``` module defines a ```DataSet``` class and several utility classes which hold the timing data in the memory and provide some evaluation functions. Please consider the source code documentation for a more detailed description of accessed functions."
   ]
  },
  {
   "cell_type": "code",
   "execution_count": 1,
   "metadata": {
    "collapsed": true
   },
   "outputs": [],
   "source": [
    "from timing import data_set as tds"
   ]
  },
  {
   "cell_type": "markdown",
   "metadata": {},
   "source": [
    "## Load the Timing File\n",
    "Timing files may be loaded via the convenience function ```tds.load_data_set_from_file(filename)```. The function constructs all facilities which are necessary to parse the timing file and to instantiate a ```tds.DataSet``` object. Please adjust the filename variable such that it points to the timing file which should be analyzed."
   ]
  },
  {
   "cell_type": "code",
   "execution_count": 2,
   "metadata": {
    "collapsed": true
   },
   "outputs": [],
   "source": [
    "timing_file_path = r\"S:\\output-data\\timing.csv\" # <-- Adjust your path here\n",
    "ds = tds.load_data_set_from_file(timing_file_path)"
   ]
  },
  {
   "cell_type": "markdown",
   "metadata": {},
   "source": [
    "## Query Performance Indicators\n",
    "FMITerminalBlock records the current real time instant and the current simulation time at various points during simulation. For instance, it is recorded when FMITerminalBlock predicts the next event and when the event is actually distributed to connected devices. In particular, the following time stamps are recorded:\n",
    "* Registration time of events. The registration is the point in time where an event is predicted by the solver or sent to FMITerminalBlock by an external entity.\n",
    "* Begin of distribution. During distribution the event is sent to all network devices and will be deleted afterwards\n",
    "* End of distribution.\n",
    "\n",
    "These numbers will be used to calculate certain performance metrics. During standard real time operation, FMITerminalBlock should start the distribution when the simulation time is reached in real time. The delay of predicted events at the begin of the distribution phase indicates that FMITerminalBlock is not able to complete all necessary operations before the event should be scheduled.\n",
    "\n",
    "Since many metrics such as average delay can be applied to many processing stages and subsets of the timing data, ```tds.TimingAxis``` class was created. Any instance of ```tds.TimingAxis``` allows to query certain performance metrics for a subset of the timing data. ```tds.DataSet``` offers several functions which expose various ```tds.TimingAxis``` objects. The following sections will demonstrate most of the timing axis and performance indicators\n",
    "\n",
    "### Direct Query\n",
    "In order to query parameters regarding one axis (e.g. the registration time), the appropriate ```tds.TimingAxis``` object has to be queried."
   ]
  },
  {
   "cell_type": "code",
   "execution_count": 3,
   "metadata": {
    "collapsed": true
   },
   "outputs": [],
   "source": [
    "registration_axis = ds.get_registration_axis()"
   ]
  },
  {
   "cell_type": "markdown",
   "metadata": {},
   "source": [
    "The axis object may then be used to calculate certain timing statistics. For instance, use ```get_mean_delay()```, ```get_min_delay()```, ```get_max_delay()``` to query the mean, average, and maximum delay respectively. The variance of delay values may be obtained via ```get_variance_of_delay()```. Pleas note that per default the function also include early events. For instance predicted events are normally registered earlier than their associated time. Hence, their delay will be negative which also affects the statistical values. Additionally, the number of elements which are covered by a particular axis may be queried by ```get_length()```."
   ]
  },
  {
   "cell_type": "code",
   "execution_count": 4,
   "metadata": {},
   "outputs": [
    {
     "name": "stdout",
     "output_type": "stream",
     "text": [
      "Number of registered timing samples:  431\n",
      "Minimum delay:      -0.019932\n",
      "Maximum delay:      0.482357\n",
      "Average delay:      0.0435382853828\n",
      "Variance in delay:  0.00992138912722\n"
     ]
    }
   ],
   "source": [
    "print(\"Number of registered timing samples: \", registration_axis.get_length())\n",
    "print(\"Minimum delay:     \", registration_axis.get_min_delay())\n",
    "print(\"Maximum delay:     \", registration_axis.get_max_delay())\n",
    "print(\"Average delay:     \", registration_axis.get_mean_delay())\n",
    "print(\"Variance in delay: \", registration_axis.get_variance_of_delay())"
   ]
  },
  {
   "cell_type": "markdown",
   "metadata": {
    "collapsed": true
   },
   "source": [
    "### Supported Axis\n",
    "\n",
    "The following timing axes are supported. Each of the axis may be queried by the given function from any DataSource object. \n",
    "* ```get_registration_axis()```\n",
    "* ```get_begin_distribution_axis()```\n",
    "* ```get_end_distribution_axis()```"
   ]
  },
  {
   "cell_type": "markdown",
   "metadata": {},
   "source": [
    "### Removal of Outliers \n",
    "\n",
    "The evaluation scripts support a basic mechanism which removes outliers. An outlier is a value with an exceptionally high or low delay value. Each timing axis object provides a function, ```get_delay_cleaned_axis()``` which removes the samples with the highest and lowest delay values and returns a newly constructed timing axis. The optional parameter ```outlier_factor``` specifies the share of removed samples. Per default 5% of the samples are removed. Please note that outliers are always removed symmetrically from the highest and lowest part of the delay spectrum."
   ]
  },
  {
   "cell_type": "code",
   "execution_count": 5,
   "metadata": {},
   "outputs": [
    {
     "name": "stdout",
     "output_type": "stream",
     "text": [
      "389  of  431  samples left\n"
     ]
    }
   ],
   "source": [
    "clean_registration_axis = registration_axis.get_delay_cleaned_axis(outlier_factor=0.1)\n",
    "print(clean_registration_axis.get_length(), \" of \", registration_axis.get_length(), \" samples left\")"
   ]
  },
  {
   "cell_type": "markdown",
   "metadata": {},
   "source": [
    "Satistics of each cleaned axis may be obtained as usual."
   ]
  },
  {
   "cell_type": "code",
   "execution_count": 6,
   "metadata": {},
   "outputs": [
    {
     "name": "stdout",
     "output_type": "stream",
     "text": [
      "Number of registered timing samples:  389\n",
      "Minimum delay:      -0.013132\n",
      "Maximum delay:      0.284718\n",
      "Average delay:      0.0284598946015\n",
      "Variance in delay:  0.00423115428207\n"
     ]
    }
   ],
   "source": [
    "print(\"Number of registered timing samples: \", clean_registration_axis.get_length())\n",
    "print(\"Minimum delay:     \", clean_registration_axis.get_min_delay())\n",
    "print(\"Maximum delay:     \", clean_registration_axis.get_max_delay())\n",
    "print(\"Average delay:     \", clean_registration_axis.get_mean_delay())\n",
    "print(\"Variance in delay: \", clean_registration_axis.get_variance_of_delay())"
   ]
  },
  {
   "cell_type": "markdown",
   "metadata": {},
   "source": [
    "### Formated Timing Parameters\n",
    "A pre-formated version of all timing parameters may be obtained via the ```to_html_statistics()``` function of the ```timing.display``` module. Hence, the module first has to be loaded. Additional imoprts are required to print the output via Jupyther."
   ]
  },
  {
   "cell_type": "code",
   "execution_count": 7,
   "metadata": {
    "collapsed": true
   },
   "outputs": [],
   "source": [
    "from timing import display as disp\n",
    "from IPython.display import display, HTML"
   ]
  },
  {
   "cell_type": "markdown",
   "metadata": {},
   "source": [
    "Afterwards, the statistics may be printed as follows."
   ]
  },
  {
   "cell_type": "code",
   "execution_count": 8,
   "metadata": {},
   "outputs": [
    {
     "data": {
      "text/html": [
       "<table><tr> <th>Axis</th><th>Samples</th><th>Mean Delay</th><th>Delay Variance</th><th>Min. Delay</th><th>Max. Delay</th> </tr><tr> <td> Registration </td> <td> 431 </td> <td> 0.04354 </td> <td> 0.0099 </td> <td> -0.0199 </td> <td> 0.4824 </td> </tr> <tr> <td> Registration (Cleaned) </td> <td> 411 </td> <td> 0.03558 </td> <td> 0.0066 </td> <td> -0.0144 </td> <td> 0.3815 </td> </tr> <tr> <td> Begin Distribution </td> <td> 430 </td> <td> 0.05336 </td> <td> 0.0093 </td> <td> 0.0001 </td> <td> 0.4834 </td> </tr> <tr> <td> Begin Distribution (Cleaned) </td> <td> 410 </td> <td> 0.04543 </td> <td> 0.0061 </td> <td> 0.0003 </td> <td> 0.3825 </td> </tr> <tr> <td> End Distribution </td> <td> 430 </td> <td> 0.05604 </td> <td> 0.0094 </td> <td> 0.0021 </td> <td> 0.4854 </td> </tr> <tr> <td> End Distribution (Cleaned) </td> <td> 410 </td> <td> 0.04811 </td> <td> 0.0062 </td> <td> 0.0025 </td> <td> 0.3855 </td> </tr> </table>"
      ],
      "text/plain": [
       "<IPython.core.display.HTML object>"
      ]
     },
     "metadata": {},
     "output_type": "display_data"
    }
   ],
   "source": [
    "html = HTML(disp.to_html_statistics(ds))\n",
    "display(html)"
   ]
  },
  {
   "cell_type": "markdown",
   "metadata": {},
   "source": [
    "## Graphical Output of Delays\n",
    "\n",
    "Sometimes it is appropriate to print the delay values over time. Each axis therefore provides a ```get_raw_data()``` function which returns a numpy array. The first column will be set to the simulation timestamps and the second one to the real-time stamps. Similarly the function ```get_delay()``` returns the time series of delay values. Each row in the delay values vector corresponds to the row in the raw data vector."
   ]
  },
  {
   "cell_type": "code",
   "execution_count": 9,
   "metadata": {
    "collapsed": true
   },
   "outputs": [],
   "source": [
    "clean_reg_axis = ds.get_registration_axis().get_delay_cleaned_axis()\n",
    "clean_begin_dist_axis = ds.get_begin_distribution_axis().get_delay_cleaned_axis()\n",
    "clean_end_dist_axis = ds.get_end_distribution_axis().get_delay_cleaned_axis()"
   ]
  },
  {
   "cell_type": "markdown",
   "metadata": {},
   "source": [
    "The raw data may be plotted, for instance, via matplotlib."
   ]
  },
  {
   "cell_type": "code",
   "execution_count": 10,
   "metadata": {
    "collapsed": true
   },
   "outputs": [],
   "source": [
    "import matplotlib.pyplot as plt"
   ]
  },
  {
   "cell_type": "code",
   "execution_count": 11,
   "metadata": {},
   "outputs": [
    {
     "data": {
      "image/png": "[encoded data removed]",
      "text/plain": [
       "<matplotlib.figure.Figure at 0x8323c50>"
      ]
     },
     "metadata": {},
     "output_type": "display_data"
    }
   ],
   "source": [
    "# Plot the sime series data of all cleaned axis\n",
    "plt.plot(clean_reg_axis.get_raw_data()[:,0], clean_reg_axis.get_delay(), '.', label=\"Registration\")\n",
    "plt.plot(clean_begin_dist_axis.get_raw_data()[:,0], clean_begin_dist_axis.get_delay(), '.', label=\"Begin Distribution\")\n",
    "plt.plot(clean_end_dist_axis.get_raw_data()[:,0], clean_end_dist_axis.get_delay(), '.', label=\"End Distribution\")\n",
    "\n",
    "plt.ylabel(\"Delay [s]\")\n",
    "plt.xlabel(\"Simulation Time [s]\")\n",
    "plt.title(\"Event Delay\")\n",
    "plt.legend()\n",
    "plt.show()"
   ]
  },
  {
   "cell_type": "markdown",
   "metadata": {},
   "source": [
    "## Delay Distribution\n",
    "The raw and delay values may also be directly used to generate a histogram."
   ]
  },
  {
   "cell_type": "code",
   "execution_count": 12,
   "metadata": {},
   "outputs": [
    {
     "data": {
      "image/png": "[encoded data removed]",
      "text/plain": [
       "<matplotlib.figure.Figure at 0x84f1400>"
      ]
     },
     "metadata": {},
     "output_type": "display_data"
    }
   ],
   "source": [
    "plt.figure()\n",
    "\n",
    "plt.subplot(1,3,1)\n",
    "plt.hist(clean_reg_axis.get_delay(), normed=True)\n",
    "plt.title(\"Registration\")\n",
    "plt.xlabel(\"Delay [s]\")\n",
    "\n",
    "plt.subplot(1,3,2)\n",
    "plt.hist(clean_begin_dist_axis.get_delay(), normed=True)\n",
    "plt.title(\"Begin Distribution\")\n",
    "plt.xlabel(\"Delay [s]\")\n",
    "\n",
    "plt.subplot(1,3,3)\n",
    "plt.hist(clean_end_dist_axis.get_delay(), normed=True)\n",
    "plt.title(\"End Distribution\")\n",
    "plt.xlabel(\"Delay [s]\")\n",
    "\n",
    "plt.tight_layout()\n",
    "plt.show()"
   ]
  }
 ],
 "metadata": {
  "kernelspec": {
   "display_name": "Python 3",
   "language": "python",
   "name": "python3"
  },
  "language_info": {
   "codemirror_mode": {
    "name": "ipython",
    "version": 3
   },
   "file_extension": ".py",
   "mimetype": "text/x-python",
   "name": "python",
   "nbconvert_exporter": "python",
   "pygments_lexer": "ipython3",
   "version": "3.6.1"
  }
 },
 "nbformat": 4,
 "nbformat_minor": 2
}
